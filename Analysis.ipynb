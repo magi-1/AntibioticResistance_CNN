{
  "nbformat": 4,
  "nbformat_minor": 0,
  "metadata": {
    "colab": {
      "name": "Analysis.ipynb",
      "provenance": [],
      "collapsed_sections": []
    },
    "kernelspec": {
      "name": "python3",
      "display_name": "Python 3"
    },
    "accelerator": "GPU"
  },
  "cells": [
    {
      "cell_type": "markdown",
      "metadata": {
        "id": "mktmcEaOwivg"
      },
      "source": [
        "# Predicting Antiobiotic Resistance With CNN's and Bacterial DNA\r\n",
        "\r\n",
        "Author: Landon Buechner\r\n",
        "\r\n",
        "Date: December 20, 2020\r\n",
        "\r\n",
        "- **Key references** that helped me contextualize this analysis. \r\n",
        "    - [The Emergence of Antibiotic Resistance by Mutation](https://www.sciencedirect.com/science/article/pii/S1198743X14615500)\r\n",
        "\r\n",
        "    - [Hypermutation as a Factor Contributing\r\n",
        "    to the Acquisition of Antimicrobial Resistance](https://pdfs.semanticscholar.org/4fc3/2983feab3022700c331070fcb7427b7a6274.pdf?_ga=2.11542449.449471926.1608450407-1106449957.1601076234)\r\n",
        "\r\n",
        "- **Google's JAX framework ([GitHub](https://github.com/google/jax))** is what I used to construct and train my CNN. \r\n"
      ]
    },
    {
      "cell_type": "code",
      "metadata": {
        "id": "x9wnNm0mc94O"
      },
      "source": [
        "import time\r\n",
        "import numpy as np\r\n",
        "import pandas as pd\r\n",
        "import seaborn as sns\r\n",
        "import matplotlib.pyplot as plt\r\n",
        "from dataclasses import dataclass\r\n",
        "from functools import partial\r\n",
        "plt.rcParams.update({'font.size': 14})\r\n",
        "\r\n",
        "from collections import Counter \r\n",
        "from sklearn.model_selection import train_test_split\r\n",
        "from sklearn.preprocessing import OneHotEncoder\r\n",
        "\r\n",
        "import torch\r\n",
        "from torch.utils.data import DataLoader\r\n",
        "\r\n",
        "import jax.numpy as jnp\r\n",
        "from jax import grad, jit, vmap, value_and_grad\r\n",
        "from jax import random\r\n",
        "from jax.experimental import stax\r\n",
        "from jax.experimental.stax import BatchNorm, MaxPool, Conv, Dense, Flatten, Relu, LogSoftmax, GeneralConv \r\n",
        "from jax.experimental import optimizers"
      ],
      "execution_count": null,
      "outputs": []
    },
    {
      "cell_type": "markdown",
      "metadata": {
        "id": "1St_PrSTdG6I"
      },
      "source": [
        "# EDA"
      ]
    },
    {
      "cell_type": "code",
      "metadata": {
        "colab": {
          "base_uri": "https://localhost:8080/",
          "height": 221
        },
        "id": "fvrbOSZydGAt",
        "outputId": "af30b167-8ed8-462b-d814-f75b41bd1ebe"
      },
      "source": [
        "raw_data = np.load(\"dataset.npy\", allow_pickle=True).item()\r\n",
        "data = pd.DataFrame(raw_data).sample(frac = .20).reset_index()\r\n",
        "\r\n",
        "print(f'Numer of samples: {data.shape[0]}')\r\n",
        "data.head()"
      ],
      "execution_count": null,
      "outputs": [
        {
          "output_type": "stream",
          "text": [
            "Numer of samples: 20000\n"
          ],
          "name": "stdout"
        },
        {
          "output_type": "execute_result",
          "data": {
            "text/html": [
              "<div>\n",
              "<style scoped>\n",
              "    .dataframe tbody tr th:only-of-type {\n",
              "        vertical-align: middle;\n",
              "    }\n",
              "\n",
              "    .dataframe tbody tr th {\n",
              "        vertical-align: top;\n",
              "    }\n",
              "\n",
              "    .dataframe thead th {\n",
              "        text-align: right;\n",
              "    }\n",
              "</style>\n",
              "<table border=\"1\" class=\"dataframe\">\n",
              "  <thead>\n",
              "    <tr style=\"text-align: right;\">\n",
              "      <th></th>\n",
              "      <th>index</th>\n",
              "      <th>resistant</th>\n",
              "      <th>genes</th>\n",
              "    </tr>\n",
              "  </thead>\n",
              "  <tbody>\n",
              "    <tr>\n",
              "      <th>0</th>\n",
              "      <td>4891</td>\n",
              "      <td>True</td>\n",
              "      <td>ATGCACTACCGTATGATTCACTGGATGATGGAAATTGACTGCAATG...</td>\n",
              "    </tr>\n",
              "    <tr>\n",
              "      <th>1</th>\n",
              "      <td>76793</td>\n",
              "      <td>True</td>\n",
              "      <td>ATGCACTACCGTATGATTCACTGGATGATGGAAATTGACTGCAATG...</td>\n",
              "    </tr>\n",
              "    <tr>\n",
              "      <th>2</th>\n",
              "      <td>52054</td>\n",
              "      <td>True</td>\n",
              "      <td>ATGCACTACCGTATGATTCACTGGATGATGGAAATTGACTGCAATG...</td>\n",
              "    </tr>\n",
              "    <tr>\n",
              "      <th>3</th>\n",
              "      <td>64393</td>\n",
              "      <td>True</td>\n",
              "      <td>ATGCACTACCGTATGATTCACTGGATGATGGAAATTGACTGCAATG...</td>\n",
              "    </tr>\n",
              "    <tr>\n",
              "      <th>4</th>\n",
              "      <td>50767</td>\n",
              "      <td>True</td>\n",
              "      <td>ATGCACTACCGTATGATTCACTGGATGATGGAAATTGACTGCAATG...</td>\n",
              "    </tr>\n",
              "  </tbody>\n",
              "</table>\n",
              "</div>"
            ],
            "text/plain": [
              "   index  resistant                                              genes\n",
              "0   4891       True  ATGCACTACCGTATGATTCACTGGATGATGGAAATTGACTGCAATG...\n",
              "1  76793       True  ATGCACTACCGTATGATTCACTGGATGATGGAAATTGACTGCAATG...\n",
              "2  52054       True  ATGCACTACCGTATGATTCACTGGATGATGGAAATTGACTGCAATG...\n",
              "3  64393       True  ATGCACTACCGTATGATTCACTGGATGATGGAAATTGACTGCAATG...\n",
              "4  50767       True  ATGCACTACCGTATGATTCACTGGATGATGGAAATTGACTGCAATG..."
            ]
          },
          "metadata": {
            "tags": []
          },
          "execution_count": 7
        }
      ]
    },
    {
      "cell_type": "markdown",
      "metadata": {
        "id": "ck07zYl0jAn4"
      },
      "source": [
        "With respect to the available RAM in the free google colab environment, a 40% downsample is the maximum sample size that doesn't cause the session to crash. It turns out that I get the same level of accuracy with the tuned architecture even if I walk it down to 20%. The final performance results are discussed in the Model Selection subsection."
      ]
    },
    {
      "cell_type": "code",
      "metadata": {
        "colab": {
          "base_uri": "https://localhost:8080/",
          "height": 356
        },
        "id": "oIN8SxbZdK_n",
        "outputId": "b4930b95-37a8-481a-dc7e-224f852c5bdb"
      },
      "source": [
        "seq_lengths = list(map(len, data['genes']))\r\n",
        "seq_counts = Counter(seq_lengths) \r\n",
        "base_counts = Counter(base for seq in data['genes'] for base in seq)\r\n",
        "\r\n",
        "clrs = sns.color_palette(\"colorblind\", n_colors= 4)\r\n",
        "fig, ax = plt.subplots(1, 2, figsize = (10,5))\r\n",
        "ax[0].bar(seq_counts.keys(), seq_counts.values(), color = 'k')\r\n",
        "ax[0].set_xlabel('Gene Length')\r\n",
        "ax[1].bar(base_counts.keys(), base_counts.values(), color = clrs)\r\n",
        "ax[1].set_xlabel('Base Count')\r\n",
        "plt.show()"
      ],
      "execution_count": null,
      "outputs": [
        {
          "output_type": "display_data",
          "data": {
            "image/png": "[encoded data removed]",
            "text/plain": [
              "<Figure size 720x360 with 2 Axes>"
            ]
          },
          "metadata": {
            "tags": [],
            "needs_background": "light"
          }
        }
      ]
    },
    {
      "cell_type": "markdown",
      "metadata": {
        "id": "iMijXnEnHnSR"
      },
      "source": [
        "\r\n",
        "As we can see, there is the initial issue of sequences with varying length. Naively we could trim each sequence to be the first 894 bases but this results in the loss of a significant amount of information. I want to make clear that the only thing I use in this analysis from the (accidental) example notebook is the padding scheme where 'X' is introduced as a dummy base. This entails that the input data is of dimension (906, 5).\r\n",
        "\r\n",
        "Consider the amount of information lost if the sequences were truncated to have equal length."
      ]
    },
    {
      "cell_type": "code",
      "metadata": {
        "colab": {
          "base_uri": "https://localhost:8080/"
        },
        "id": "LyfvwToESSdp",
        "outputId": "6e4bf56e-fbcb-42e8-ca83-4eb982ce419b"
      },
      "source": [
        "lost_data = sum([i for i in seq_lengths if i > 894])\r\n",
        "print(\"Assuming no padding and sequences are truncated\\n\")\r\n",
        "print(f\"Total bases: {sum(seq_lengths)}\")\r\n",
        "print(f\"Bases dropped: {lost_data}\")\r\n",
        "print(f\"Percent of data lost: {round(100*(1-lost_data/sum(seq_lengths)),2)}%\")"
      ],
      "execution_count": null,
      "outputs": [
        {
          "output_type": "stream",
          "text": [
            "Assuming no padding and sequences are truncated\n",
            "\n",
            "Total # bases: 17999363\n",
            "# bases dropped: 16838057\n",
            "Percent of data lost: 6.45%\n"
          ],
          "name": "stdout"
        }
      ]
    },
    {
      "cell_type": "markdown",
      "metadata": {
        "id": "9_hJ-1-ASbpe"
      },
      "source": [
        "It turns out that the model accuracy for the tuned architecture drops by about 1-2% whenever the sequences are not padded, i.e when the model is trained data of dimension (894, 4). "
      ]
    },
    {
      "cell_type": "markdown",
      "metadata": {
        "id": "eHi0DZOPdN0D"
      },
      "source": [
        "# Data Processing"
      ]
    },
    {
      "cell_type": "code",
      "metadata": {
        "id": "1cIyEnbXdPba"
      },
      "source": [
        "def process_data(raw_data):\r\n",
        "  \"\"\"\r\n",
        "  Resolves the issue of sequences with varying length. \r\n",
        "  \"\"\"\r\n",
        "  max_length = max(list(map(len, raw_data['genes'])))\r\n",
        "  padded_seqs = [seq.ljust(max_length, 'X') for seq in raw_data['genes']]\r\n",
        "  split_seqs = np.array([list(i) for i in padded_seqs])\r\n",
        "\r\n",
        "  bases = list(\"ACGTX\")\r\n",
        "  encoding = OneHotEncoder()\r\n",
        "  encoding.fit(np.array(bases).reshape(-1,1)) \r\n",
        "  encoded_seqs = encoding.transform(split_seqs.reshape(-1,1)).toarray()\r\n",
        "\r\n",
        "  X_data = encoded_seqs.reshape(len(split_seqs), 1, max_length, 5)  \r\n",
        "  y_data = np.array([1 if i == True else 0 for i in raw_data['resistant']])\r\n",
        "  return X_data, y_data\r\n",
        "\r\n",
        "@dataclass\r\n",
        "class Dataset:\r\n",
        "  \"\"\"\r\n",
        "  Necessary class for torch dataloaders\r\n",
        "  \"\"\"\r\n",
        "  genes : np.array\r\n",
        "  resistance : np.array\r\n",
        "    \r\n",
        "  def __len__(self):\r\n",
        "    return len(self.resistance)\r\n",
        "\r\n",
        "  def __getitem__(self, index):\r\n",
        "    return self.genes[index], self.resistance[index]"
      ],
      "execution_count": null,
      "outputs": []
    },
    {
      "cell_type": "code",
      "metadata": {
        "colab": {
          "base_uri": "https://localhost:8080/"
        },
        "id": "pc-Pu5nZ73It",
        "outputId": "c039a179-c4f6-41b5-a2a5-3618f0bf5f46"
      },
      "source": [
        "X, y = process_data(data)\r\n",
        "X_train, X_test, y_train, y_test = train_test_split(X, y, test_size = 0.2, random_state = 7)\r\n",
        "\r\n",
        "print(f'Shape of the encoded data: {X_train[0].shape}\\n')\r\n",
        "print(data.iloc[0]['genes'][:10], '....\\n') # not the same sample\r\n",
        "X_train[0]"
      ],
      "execution_count": null,
      "outputs": [
        {
          "output_type": "stream",
          "text": [
            "Shape of the encoded data: (1, 906, 5)\n",
            "\n",
            "ATGCACTACC ....\n",
            "\n"
          ],
          "name": "stdout"
        },
        {
          "output_type": "execute_result",
          "data": {
            "text/plain": [
              "array([[[1., 0., 0., 0., 0.],\n",
              "        [0., 0., 0., 1., 0.],\n",
              "        [0., 0., 1., 0., 0.],\n",
              "        ...,\n",
              "        [0., 0., 0., 0., 1.],\n",
              "        [0., 0., 0., 0., 1.],\n",
              "        [0., 0., 0., 0., 1.]]])"
            ]
          },
          "metadata": {
            "tags": []
          },
          "execution_count": 11
        }
      ]
    },
    {
      "cell_type": "markdown",
      "metadata": {
        "id": "F3_1dv8cdRlO"
      },
      "source": [
        "# Modelling Tools"
      ]
    },
    {
      "cell_type": "code",
      "metadata": {
        "id": "dJRLZ9rEdSYR"
      },
      "source": [
        "class CNN:\r\n",
        "  \"\"\"\r\n",
        "  Used to initialize a CNN for a given input architecture.\r\n",
        "\r\n",
        "  The make_model() method iterates through a list of dictionaries\r\n",
        "  and sequenctially constructs layers within jax.stax.serial()\r\n",
        "\r\n",
        "  Note that the add_layer() method has a limited selection of layer\r\n",
        "  types at the moment. Other activation functions are not explored\r\n",
        "  but could be easily added for later use of this collection of classes.\r\n",
        "  This hold true for any layer types supported by jax.\r\n",
        "  \"\"\"\r\n",
        "  def __init__(self, architecture : dict):\r\n",
        "    self.init_fun, self.model = self.make_model(architecture)\r\n",
        "\r\n",
        "  def make_model(self, architecture):\r\n",
        "    return stax.serial(*list(map(self.add_layer, architecture)))\r\n",
        "\r\n",
        "  def add_layer(self, L):\r\n",
        "    if L['layer'] == 'conv':\r\n",
        "      return Conv(L['c_out'], filter_shape = L['w_shape'], strides = L['stride'], padding=\"SAME\")\r\n",
        "    elif L['layer'] == 'maxpool':\r\n",
        "      return MaxPool(window_shape = L['w_shape'], strides = L['stride'], padding=\"SAME\")\r\n",
        "    elif L['layer'] == 'batchnorm':\r\n",
        "      return BatchNorm()\r\n",
        "    elif L['layer'] == 'relu':\r\n",
        "      return Relu\r\n",
        "    elif L['layer'] == 'flatten':\r\n",
        "      return Flatten\r\n",
        "    elif L['layer'] == 'dense':\r\n",
        "      return Dense(L['out_dim'])\r\n",
        "    elif L['layer'] == 'logsoftmax':\r\n",
        "      return LogSoftmax"
      ],
      "execution_count": null,
      "outputs": []
    },
    {
      "cell_type": "code",
      "metadata": {
        "id": "D3272yD_21Cv"
      },
      "source": [
        "class Operations:\r\n",
        "  \"\"\"\r\n",
        "  Miscellaneous methods for model training and validation.\r\n",
        "  \"\"\"\r\n",
        "  # Constructs JAX device array for boolean comparison in accuracy calculation\r\n",
        "  @staticmethod \r\n",
        "  def one_hot(y, num_classes):\r\n",
        "    return jnp.array(y[:, None] == np.arange(num_classes), dtype = np.float32)\r\n",
        "\r\n",
        "  @staticmethod\r\n",
        "  def model_accuracy(model, params, data_loader):\r\n",
        "    accuracy = 0\r\n",
        "    for _, (X, y) in enumerate(data_loader):\r\n",
        "      targets = Operations.one_hot(np.array(y), 2)\r\n",
        "      pred_class = jnp.argmax(model(params, np.array(X)), axis = 1)\r\n",
        "      target_class = jnp.argmax(targets, axis = 1)\r\n",
        "      accuracy += np.sum(pred_class == target_class)\r\n",
        "    return accuracy/len(data_loader.dataset)\r\n",
        "\r\n",
        "  # Takes input X,y arrays and constructs dataloader\r\n",
        "  @staticmethod\r\n",
        "  def load(X, y, batch_size):\r\n",
        "    return DataLoader(Dataset(X, y), batch_size = batch_size, shuffle=True)"
      ],
      "execution_count": null,
      "outputs": []
    },
    {
      "cell_type": "code",
      "metadata": {
        "id": "LU0HfBasdVBM"
      },
      "source": [
        "class TrainNetwork(Operations):\r\n",
        "  \"\"\"\r\n",
        "  Optimizes paramaters for a given model architecture.\r\n",
        "  Takes advantage of parallelism if connected to a \r\n",
        "  GPU/TPU enabled runtime.\r\n",
        "  \r\n",
        "  Note that the optimized model paramaters are updated \r\n",
        "  and stored in the internal cnn member. Post training, \r\n",
        "  they are accessed by calling TrainNetwork(...).cnn.params \r\n",
        "\r\n",
        "  Further improvements to this class would be adding additional \r\n",
        "  optimizer choices in the set_optimizer() method. The same could\r\n",
        "  said for loss function options. Also, the current dimensions of \r\n",
        "  training data (1, 906, 5) are predefined. TrainNetwork is one step \r\n",
        "  away from being a multipurpose training class for any given neural \r\n",
        "  network model. \r\n",
        "  \"\"\"\r\n",
        "  def __init__(self, \r\n",
        "      cnn : CNN,\r\n",
        "      train_loader : torch.utils.data.DataLoader, \r\n",
        "      test_loader : torch.utils.data.DataLoader,\r\n",
        "      batch_size : int, \r\n",
        "      num_epochs : int, \r\n",
        "      step_size : float,\r\n",
        "      view = True):\r\n",
        "    \r\n",
        "    self.cnn = cnn\r\n",
        "    self.train_loader = train_loader\r\n",
        "    self.test_loader = test_loader\r\n",
        "    self.batch_size = batch_size\r\n",
        "    self.num_epochs = num_epochs\r\n",
        "    self.view = view\r\n",
        "    self.model_state = 'Untrained'\r\n",
        "    self.key = random.PRNGKey(1)\r\n",
        "\r\n",
        "    self.params = self.initialize_network()\r\n",
        "    self.opt_init, self.opt_update, self.get_params = self.set_optimizer(step_size)\r\n",
        "\r\n",
        "  def __repr__(self):\r\n",
        "    if self.model_state == 'Untrained':\r\n",
        "      return 'Untrained Network'\r\n",
        "    elif self.model_state == 'Trained':\r\n",
        "      return f'Trained Anitbiotic Resistance Classifier\\n \\\r\n",
        "        Input Shape: {self.train_loader.dataset.genes[0].shape}'\r\n",
        "\r\n",
        "  def initialize_network(self):\r\n",
        "    _, params = self.cnn.init_fun(self.key, (self.batch_size, 1, 906, 5))\r\n",
        "    return params\r\n",
        "\r\n",
        "  def set_optimizer(self, step_size):\r\n",
        "      return optimizers.adam(step_size)\r\n",
        "       \r\n",
        "  def cross_entropy(self, params, X, y):\r\n",
        "    preds = self.cnn.model(params, X)\r\n",
        "    return -jnp.sum(preds * y) \r\n",
        "\r\n",
        "  # Parallelized gradient computation and paramater update \r\n",
        "  @partial(jit, static_argnums=(0))\r\n",
        "  def update(self, params, X, y, opt_state):\r\n",
        "    values, grads = value_and_grad(self.cross_entropy)(params, X, y)\r\n",
        "    opt_state = self.opt_update(0, grads, opt_state) \r\n",
        "    return self.get_params(opt_state), opt_state, values\r\n",
        "\r\n",
        "  def train(self):\r\n",
        "    \"\"\"\r\n",
        "    1. Iteratively updates the internal CNN class instance paramaters.\r\n",
        "    2. Logs/prints training result data and returns a TrainResult object.\r\n",
        "    3. Selects paramaters from epoch with the highest test accuracy. \r\n",
        "    \"\"\"\r\n",
        "    # Initializing parameters\r\n",
        "    opt_state = self.opt_init(self.params)\r\n",
        "    self.params = self.get_params(opt_state)\r\n",
        "\r\n",
        "    # Training loop with necessary jax.np.array transformations\r\n",
        "    model_params, TrainAccuracy, TestAccuracy, TrainLoss = [], [], [], []\r\n",
        "    for epoch in range(self.num_epochs):\r\n",
        "      t0 = time.time()\r\n",
        "      for _, (X, y) in enumerate(self.train_loader):\r\n",
        "        X = jnp.array(X)\r\n",
        "        y = self.one_hot(jnp.array(y), 2) \r\n",
        "        self.params, opt_state, loss = self.update(self.params, X, y, opt_state)\r\n",
        "        model_params.append(self.params)\r\n",
        "        TrainLoss.append(loss)\r\n",
        "      \r\n",
        "      # Computing in/out-sample model accuracy\r\n",
        "      train_acc = self.model_accuracy(self.cnn.model, self.params, self.train_loader)\r\n",
        "      test_acc =  self.model_accuracy(self.cnn.model, self.params, self.test_loader)\r\n",
        "      TrainAccuracy.append(train_acc)\r\n",
        "      TestAccuracy.append(test_acc)\r\n",
        "\r\n",
        "      # Toggle to display training epochs. Useful for inspecting train times.\r\n",
        "      if self.view == True:\r\n",
        "        print(f\"Epoch {epoch+1} | Time {round(time.time()-t0, 2)} | Train {train_acc:.4f} | Test {test_acc:.4f}\")\r\n",
        "\r\n",
        "    # Selecting params with best test accuracy\r\n",
        "    best_index = TestAccuracy.index(max(TestAccuracy))\r\n",
        "    self.cnn.params = model_params[best_index]\r\n",
        "    self.model_state = 'Trained'\r\n",
        "    return TrainResults(TrainLoss, TrainAccuracy, TestAccuracy)"
      ],
      "execution_count": null,
      "outputs": []
    },
    {
      "cell_type": "code",
      "metadata": {
        "id": "SGSuTWzqdbDj"
      },
      "source": [
        "@dataclass\r\n",
        "class TrainResults:\r\n",
        "  \"\"\"\r\n",
        "  Output of TrainNetwork and used within CrossValidation.\r\n",
        "\r\n",
        "  Stores accuracy/loss infromation from each epoch and has the .accuracy\r\n",
        "  property for easy access to the maximum accuracy score. \r\n",
        "\r\n",
        "  As it stands, the CrossValidation class only optimizes parameters \r\n",
        "  for a fixed CNN architecture. An improvement would be to have this\r\n",
        "  class contain CNN meta-data so that a a collection ofcandidate \r\n",
        "  architectures can be optimzed at the model selection stage.\r\n",
        "  \"\"\"\r\n",
        "  TrainLoss : list\r\n",
        "  TrainAccuracy : list\r\n",
        "  TestAccuracy : list\r\n",
        "\r\n",
        "  def __post_init__(self):\r\n",
        "    self.data = self.format_data()\r\n",
        "\r\n",
        "  def format_data(self):\r\n",
        "    return pd.DataFrame({\r\n",
        "        'TrainAcc': self.TrainAccuracy,\r\n",
        "        'TestAcc': self.TestAccuracy})\r\n",
        "    \r\n",
        "  @property\r\n",
        "  def loss(self):\r\n",
        "    return pd.Series(self.TrainLoss, name='TrainLoss')\r\n",
        "\r\n",
        "  @property\r\n",
        "  def accuracy(self):\r\n",
        "    return self.data['TestAcc'].max()"
      ],
      "execution_count": null,
      "outputs": []
    },
    {
      "cell_type": "code",
      "metadata": {
        "id": "s9r1HnD_ddR5"
      },
      "source": [
        "@dataclass\r\n",
        "class CrossValidation(Operations):\r\n",
        "  \"\"\"\r\n",
        "  K-Fold cross validation for model selection\r\n",
        "  \"\"\"\r\n",
        "  input_cnn : CNN\r\n",
        "  batch_size : int\r\n",
        "  num_epochs : int\r\n",
        "  step_size : float\r\n",
        "  k_fold : int\r\n",
        "  X_train : np.array\r\n",
        "  X_test : np.array\r\n",
        "  y_train : np.array\r\n",
        "  y_test : np.array\r\n",
        "    \r\n",
        "  def __post_init__(self):\r\n",
        "    assert self.k_fold > 1\r\n",
        "    self.X_folds, self.y_folds = self.make_folds()\r\n",
        "    self.test_loader = self.load(self.X_test, self.y_test, self.batch_size)\r\n",
        "\r\n",
        "  # Splits the data into K subsets\r\n",
        "  def make_folds(self):\r\n",
        "    X_folds = np.split(self.X_train, self.k_fold)\r\n",
        "    y_folds = np.split(self.y_train, self.k_fold)\r\n",
        "    return X_folds, y_folds\r\n",
        "\r\n",
        "  # Concatenates the k-1 remaining folds so that they can be fed into dataloader\r\n",
        "  def get_folds(self, i):\r\n",
        "    indicies = [j for j in range(self.k_fold) if j!=i]\r\n",
        "    _X_train = np.concatenate([self.X_folds[j] for j in indicies])\r\n",
        "    _y_train = np.concatenate([self.y_folds[j] for j in indicies])\r\n",
        "    _X_test = self.X_folds[i]\r\n",
        "    _y_test = self.y_folds[i]\r\n",
        "    return _X_train, _y_train, _X_test, _y_test\r\n",
        "\r\n",
        "  def run(self):\r\n",
        "    model_params, performance = [], []\r\n",
        "    for i in range(self.k_fold):\r\n",
        "      print(f'\\n---- Fold # {i+1} ----\\n')\r\n",
        "      # Formatting data\r\n",
        "      _X_train, _y_train, _X_test, _y_test = self.get_folds(i)\r\n",
        "      _train_loader = self.load(_X_train, _y_train, self.batch_size)\r\n",
        "      _test_loader = self.load(_X_test, _y_test, self.batch_size)\r\n",
        "\r\n",
        "      # Training CNN and logging params/performance\r\n",
        "      cnn = TrainNetwork(self.input_cnn,  _train_loader, _test_loader, \r\n",
        "          self.batch_size, self.num_epochs, self.step_size)\r\n",
        "      results = cnn.train()\r\n",
        "      model_params.append(cnn.params)\r\n",
        "      performance.append(results.data.iloc[-1])\r\n",
        "\r\n",
        "    # Selecting the best model out of the k-folds\r\n",
        "    perf_df = pd.DataFrame(performance).reset_index().drop(columns = ['index'])\r\n",
        "    best_model_acc = perf_df.sort_values(by = ['TestAcc'], ascending = False).iloc[0,:]\r\n",
        "    best_params =  model_params[best_model_acc.name]\r\n",
        "\r\n",
        "    # Displaying relevant metrics\r\n",
        "    in_sample_acc = best_model_acc['TestAcc']\r\n",
        "    out_sample_acc = self.model_accuracy(self.input_cnn.model, best_params, self.test_loader)\r\n",
        "    print('\\n'+'-'*15)\r\n",
        "    print(f'In-sample Accuracy: {in_sample_acc:.4f}')\r\n",
        "    print(f'Test Accuracy: {out_sample_acc:.4f}')\r\n",
        "    return best_params, perf_df"
      ],
      "execution_count": null,
      "outputs": []
    },
    {
      "cell_type": "markdown",
      "metadata": {
        "id": "16bQeMxRd0G4"
      },
      "source": [
        "# Exploring Architectures\r\n",
        "\r\n",
        "In the following section I exhaustively explore various architectures. Since my background is not in bioinformatics, I surveyed the following papers to get me pointed in the right direction. It was informative to read about the various encoding schemes and model architectures despite the respective modelling tasks of interest being different than the one pursued in this notebook.\r\n",
        "\r\n",
        "1. [Convolutional neural networks for classification\r\n",
        "of alignments of non-coding RNA sequences](https://academic.oup.com/bioinformatics/article/34/13/i237/5045743)\r\n",
        "\r\n",
        "2. [Convolutional neural network architectures\r\n",
        "for predicting DNA–protein binding](https://dspace.mit.edu/bitstream/handle/1721.1/111019/Convolutional%20neural%20network%20architectures%20for%20predicting%20DNA%E2%80%93protein%20binding.pdf?sequence=1&isAllowed=y)\r\n",
        "3. [DeepMHC: Deep Convolutional Neural Networks for\r\n",
        "High-performance peptide-MHC Binding Affinity Prediction](https://www.biorxiv.org/content/10.1101/239236v1.full.pdf)\r\n",
        "\r\n",
        "In terms of convolutional neural networks themselves, this reference serves as a great resource for understanding the output dimensionalities of operations such as convolution, pooling, etc.\r\n",
        "\r\n",
        "- [Convolutional Arithmetic](https://arxiv.org/pdf/1603.07285.pdf)"
      ]
    },
    {
      "cell_type": "markdown",
      "metadata": {
        "id": "MRED5RVDj2tP"
      },
      "source": [
        "### Remarks\r\n",
        "\r\n",
        "In terms of the constructed classes defined above, the training pipeline is as follows:\r\n",
        "\r\n",
        "$ \\text{Dataset} \\rightarrow \\text{Operations.load} \\rightarrow\\text{CNN} \\rightarrow \\text{CrossValidation}(\\text{TrainNetwork}) $\r\n",
        "\r\n",
        "There could have been an intermediate step where I programmatically optimized the model architecture; but as seen in the following cells, a first few ad-hoc guesses of simple architectures results in a model structure that performs very well. Quick prototyping is possible because the downsampled dataset is relatively small and the training is parallelized on the GPU."
      ]
    },
    {
      "cell_type": "markdown",
      "metadata": {
        "id": "0XDeQgx4j4VK"
      },
      "source": [
        "### Going Forward\r\n",
        "Below are variety of networks with tunable hyperparametres such as the number of kernels, window size, and stride. I do not experiment with other activation functions or optimizers. I selected $\\text{ReLu}$ and $\\text{ADAM}$ respectively. I also use $\\text{SAME}$ padding.\r\n",
        "\r\n",
        "For the $\\text{MaxPool}$ layer, the model has coin flip accuracy when it's window width along the convolved sequence is extended beyond 1. This makes sense because we are already convolving across sparse vectors of the form [0,1,0,0,0]. Additionally, about $1\\text{-}2\\text{%}$ accuracy is lost on average when the MaxPool window height to less than 5. Lastly, only a single convolutional layer is needed to for high performance. A deeper network is inapropriate in light of Occam's Razor.\r\n"
      ]
    },
    {
      "cell_type": "code",
      "metadata": {
        "id": "M3gODMzod2Cs"
      },
      "source": [
        "batch_size = 100\r\n",
        "num_epochs = 10\r\n",
        "step_size = 1e-3\r\n",
        "\r\n",
        "train_loader = Operations.load(X_train, y_train, batch_size)\r\n",
        "test_loader =  Operations.load(X_test, y_test, batch_size)"
      ],
      "execution_count": null,
      "outputs": []
    },
    {
      "cell_type": "markdown",
      "metadata": {
        "id": "N3bLyJBFzAgo"
      },
      "source": [
        "For this initial step I fix the window size as $(6, 5)$ and stride as $(1,1)$ and vary the number of kernels learned. I choose $(6, 5)$ to start because this would cover two codons in the DNA sequence. The selected stride is the simplest choice and is sufficient for now."
      ]
    },
    {
      "cell_type": "code",
      "metadata": {
        "id": "yiAhJKgrnHzL"
      },
      "source": [
        "accuracy, kernels  = [], [1, 4, 8, 16, 32, 64, 128]\r\n",
        "\r\n",
        "for k in kernels: \r\n",
        "  architecture = [{'layer': 'conv', 'c_out': k, 'w_shape': (6,5), 'stride': (1,1)},\r\n",
        "                  {'layer': 'maxpool', 'w_shape': (1,5), 'stride': (1,1)},\r\n",
        "                  {'layer': 'batchnorm'}, {'layer': 'relu'}, \r\n",
        "                  {'layer': 'flatten'},\r\n",
        "                  {'layer': 'dense', 'out_dim': 2}, \r\n",
        "                  {'layer': 'logsoftmax'}]\r\n",
        "\r\n",
        "  jax_model = CNN(architecture)\r\n",
        "  cnn = TrainNetwork(jax_model, train_loader, test_loader, \r\n",
        "                    batch_size, num_epochs, step_size, view = False)\r\n",
        "  results = cnn.train()\r\n",
        "  accuracy.append(results.accuracy)"
      ],
      "execution_count": null,
      "outputs": []
    },
    {
      "cell_type": "code",
      "metadata": {
        "colab": {
          "base_uri": "https://localhost:8080/",
          "height": 334
        },
        "id": "hc-dZfjP0pKe",
        "outputId": "b49d7460-a601-4eac-98cf-22b308a719a7"
      },
      "source": [
        "plt.figure(figsize = (8, 5))\r\n",
        "plt.plot(kernels, accuracy, color = 'k', linewidth = 4)\r\n",
        "plt.xlabel('# kernels')\r\n",
        "plt.ylabel('accuracy')\r\n",
        "plt.show()"
      ],
      "execution_count": null,
      "outputs": [
        {
          "output_type": "display_data",
          "data": {
            "image/png": "[encoded data removed]",
            "text/plain": [
              "<Figure size 576x360 with 1 Axes>"
            ]
          },
          "metadata": {
            "tags": [],
            "needs_background": "light"
          }
        }
      ]
    },
    {
      "cell_type": "markdown",
      "metadata": {
        "id": "px04nXF93cS8"
      },
      "source": [
        "I proceed with 16 kernels/output channels because the accuracy can be seen to plateau. Interestingly, this is in line with the architecture perscribed by paper 2.\r\n",
        "\r\n",
        "The models tested above are already extremely accurate. Nonetheless, I explore various window sizes. As previously mentioned, note that it doesn't make sense to stride along the encoding axis (dim = 5) because the data is one hot encoded. We are interested in learning patterns _spatially_ along the DNA sequence. Thus I set the window height to $(\\cdot, 5)$."
      ]
    },
    {
      "cell_type": "code",
      "metadata": {
        "id": "EyYt7kgMqAvX"
      },
      "source": [
        "\"\"\"\r\n",
        "The window widths are not equally spaced but are enough to \r\n",
        "probe the hyperparameter space.\r\n",
        "\r\n",
        "Each of the 12 models trained/tested below are ran on the \r\n",
        "entire 25k downsample. \r\n",
        "\"\"\"\r\n",
        "acc_samples = []\r\n",
        "windows = [(1,5), (2,5), (4,5), (6,5), \r\n",
        "           (9,5), (12,5), (15,5), (18,5), \r\n",
        "           (24,5), (25,5), (27, 5), (30, 5), \r\n",
        "           (33, 5), (36, 5)]\r\n",
        "\r\n",
        "for _ in range(4):\r\n",
        "  # redefining the loaders so that the data gets shuffled\r\n",
        "  train_loader = Operations.load(X_train, y_train, batch_size)\r\n",
        "  test_loader = Operations.load(X_test, y_test, batch_size)\r\n",
        "\r\n",
        "  accuracy = []\r\n",
        "  for w in windows: \r\n",
        "    architecture = [{'layer': 'conv', 'c_out': 16, 'w_shape': w, 'stride': (1,1)},\r\n",
        "                    {'layer': 'maxpool', 'w_shape': (1,5), 'stride': (1,1)},\r\n",
        "                    {'layer': 'batchnorm'}, {'layer': 'relu'}, \r\n",
        "                    {'layer': 'flatten'},\r\n",
        "                    {'layer': 'dense', 'out_dim': 2}, \r\n",
        "                    {'layer': 'logsoftmax'}]\r\n",
        "\r\n",
        "    jax_model = CNN(architecture)\r\n",
        "    cnn = TrainNetwork(jax_model, train_loader, test_loader, \r\n",
        "                       batch_size, num_epochs, step_size, view = False)\r\n",
        "    results = cnn.train()\r\n",
        "    accuracy.append(results.accuracy)\r\n",
        "  acc_samples.append(accuracy)"
      ],
      "execution_count": null,
      "outputs": []
    },
    {
      "cell_type": "code",
      "metadata": {
        "colab": {
          "base_uri": "https://localhost:8080/",
          "height": 342
        },
        "id": "vl3DIdJw3b6-",
        "outputId": "76a0bf1c-1a48-4301-8ebd-4dfc0a1b4235"
      },
      "source": [
        "mu_acc = np.mean(acc_samples, axis = 0)\r\n",
        "\r\n",
        "plt.figure(figsize = (8, 5))\r\n",
        "plt.plot([w[0] for w in windows], mu_acc, label = 'avg accuracy', color = 'k', linewidth = 4)\r\n",
        "for i in range(4):\r\n",
        "  plt.plot([w[0] for w in windows], acc_samples[i], color = clrs[i], linewidth = 2, alpha = .5)\r\n",
        "\r\n",
        "for x in [6, 27]:\r\n",
        "  plt.vlines(x = x, ymin = .90, ymax = 1, color = 'r', linestyle = 'dashed')\r\n",
        "plt.ylim([np.min(acc_samples)-.001, np.max(acc_samples)+.001])\r\n",
        "plt.xlabel('(window size, *)')\r\n",
        "plt.ylabel('accuracy')\r\n",
        "plt.legend(loc = 'lower right')\r\n",
        "plt.show()"
      ],
      "execution_count": null,
      "outputs": [
        {
          "output_type": "display_data",
          "data": {
            "image/png": "[encoded data removed]",
            "text/plain": [
              "<Figure size 576x360 with 1 Axes>"
            ]
          },
          "metadata": {
            "tags": [],
            "needs_background": "light"
          }
        }
      ]
    },
    {
      "cell_type": "markdown",
      "metadata": {
        "id": "9emUJWQTBCAv"
      },
      "source": [
        "### Selected window size\r\n",
        "\r\n",
        "The $(6,5)$ and $(27,5)$ windows have the highest accuracy. First note that these are both multiples of codon length 3. Suprisingly, the model favors a very wide window meaning that there is an underlying base/codon pattern that spans across relatively wide segments of the sequence. In terms antibiotic resistance profiles, there is an underlying codon permutation that spans up to 27 sequential bases! Naturally, mutations are the name of the game and are the true mechanism of interest.\r\n",
        "\r\n",
        "While $(6,*)$ is a valid candidate parameter, it is of interest to note that the sampled accuracies converge for $(27,5)$ to a very small interval. Contrast this with the high variability of accuracy at any other given window width. Note that I have ran this on several shuffled training/test sets all which showed very similar results. \r\n",
        "\r\n",
        "\r\n",
        "\r\n",
        "\r\n",
        "\r\n"
      ]
    },
    {
      "cell_type": "markdown",
      "metadata": {
        "id": "2sMcACq4jmko"
      },
      "source": [
        "### Underlying Biology\r\n",
        "\r\n",
        "The paper below confirms the selected model architecture which is characterized by window width $3^3=27$. I tuned the model *before* learning that frameshift mutations are responsible for misreads that cause antibiotic resistance. It was very satisfying to come across this paper which validates the model architecture. \r\n",
        "\r\n",
        "[Antibiotic Resistance by High-Level Intrinsic Suppression of a Frameshift Mutation in an Essential Gene](https://www.pnas.org/content/117/6/3185)\r\n",
        "\r\n",
        "  - **Frameshift Mutations ([Genome.gov](https://www.genome.gov/genetics-glossary/Frameshift-Mutation)):** A frameshift mutation is a type of mutation involving the insertion or deletion of a nucleotide in which the number of deleted base pairs is not divisible by three. \"Divisible by three\" is important because the cell reads a gene in groups of three bases. Each group of three bases corresponds to one of 20 different amino acids used to build a protein. If a mutation disrupts this reading frame, then the entire DNA sequence following the mutation will be read incorrectly. "
      ]
    },
    {
      "cell_type": "code",
      "metadata": {
        "id": "ihlm1RNKnMr3"
      },
      "source": [
        "acc_samples = []\r\n",
        "strides = [(1,1), (2,1), (3,1), \r\n",
        "           (4,1), (5,1), (6,1), \r\n",
        "           (9,1), (12,1), (15,1)]\r\n",
        "\r\n",
        "for _ in range(4):\r\n",
        "  # redefining the loaders so that the data gets shuffled\r\n",
        "  train_loader = Operations.load(X_train, y_train, batch_size)\r\n",
        "  test_loader = Operations.load(X_test, y_test, batch_size)\r\n",
        "\r\n",
        "  accuracy = []\r\n",
        "  for s in strides:\r\n",
        "    architecture = [{'layer': 'conv', 'c_out': 16, 'w_shape': (27,5), 'stride': s},\r\n",
        "                    {'layer': 'maxpool', 'w_shape': (1,5), 'stride': (1,1)},\r\n",
        "                    {'layer': 'batchnorm'},{'layer': 'relu'}, \r\n",
        "                    {'layer': 'flatten'},\r\n",
        "                    {'layer': 'dense', 'out_dim': 2}, \r\n",
        "                    {'layer': 'logsoftmax'}]\r\n",
        "\r\n",
        "    jax_model = CNN(architecture)\r\n",
        "    cnn = TrainNetwork(jax_model, train_loader, test_loader, \r\n",
        "                       batch_size, num_epochs, step_size, view = False)\r\n",
        "    results = cnn.train()\r\n",
        "    accuracy.append(results.accuracy)\r\n",
        "  acc_samples.append(accuracy)"
      ],
      "execution_count": null,
      "outputs": []
    },
    {
      "cell_type": "code",
      "metadata": {
        "colab": {
          "base_uri": "https://localhost:8080/",
          "height": 342
        },
        "id": "amg8svsYqxpk",
        "outputId": "8d535319-8e51-4163-84cd-baffb813c141"
      },
      "source": [
        "mu_acc = np.mean(acc_samples, axis = 0)\r\n",
        "\r\n",
        "plt.figure(figsize = (8, 5))\r\n",
        "plt.plot([s[0] for s in strides], mu_acc, label = 'avg accuracy', color = 'k', linewidth = 6)\r\n",
        "for i in range(4):\r\n",
        "  plt.plot([s[0] for s in strides], acc_samples[i], color = clrs[i], linewidth = 2, alpha = .5)\r\n",
        "plt.xlabel('(stride size, *)')\r\n",
        "plt.ylabel('accuracy')\r\n",
        "plt.legend(loc = 'lower right')\r\n",
        "plt.show()"
      ],
      "execution_count": null,
      "outputs": [
        {
          "output_type": "display_data",
          "data": {
            "image/png": "[encoded data removed]",
            "text/plain": [
              "<Figure size 576x360 with 1 Axes>"
            ]
          },
          "metadata": {
            "tags": [],
            "needs_background": "light"
          }
        }
      ]
    },
    {
      "cell_type": "markdown",
      "metadata": {
        "id": "SD3yGdOJE4C2"
      },
      "source": [
        "Unlike for window size, it looks like model accuracy is independent of the choice of stride. My basic understanding of genetics tells me that there is no underlying structure in the data that necessitates skipping across the sequence, especially considering that the chosen kernel size is already so spatially long. I proceed with stride $(1,1)$.\r\n",
        "\r\n",
        "**Note:** I could be completely mistaken by trying to tune the model based on such a narrow accuracy range; though if I can get some additional juice out of the model, why not take it!"
      ]
    },
    {
      "cell_type": "markdown",
      "metadata": {
        "id": "SFklybxMeDfG"
      },
      "source": [
        "# Model Selection"
      ]
    },
    {
      "cell_type": "code",
      "metadata": {
        "id": "bXu63yPMGXW3"
      },
      "source": [
        "architecture = [{'layer': 'conv', 'c_out': 16, 'w_shape': (27,5), 'stride': (1,1)},\r\n",
        "                {'layer': 'maxpool', 'w_shape': (1,5), 'stride': (1,1)},\r\n",
        "                {'layer': 'batchnorm'},\r\n",
        "                {'layer': 'relu'}, \r\n",
        "                {'layer': 'flatten'},\r\n",
        "                {'layer': 'dense', 'out_dim': 2}, {'layer': 'logsoftmax'}]\r\n",
        "\r\n",
        "optimal_model = CNN(architecture)"
      ],
      "execution_count": null,
      "outputs": []
    },
    {
      "cell_type": "code",
      "metadata": {
        "id": "-3MgmWSod7wu",
        "colab": {
          "base_uri": "https://localhost:8080/"
        },
        "outputId": "2642652b-ab6f-45c3-849e-2b0f12353374"
      },
      "source": [
        "k_fold = 5\r\n",
        "CV = CrossValidation(optimal_model, batch_size, num_epochs, step_size, k_fold,\r\n",
        "                     X_train, X_test, y_train, y_test)\r\n",
        "\r\n",
        "optimal_params, cv_results = CV.run()"
      ],
      "execution_count": null,
      "outputs": [
        {
          "output_type": "stream",
          "text": [
            "\n",
            "---- Fold # 1 ----\n",
            "\n",
            "Epoch 1 | Time 3.32 | Train 0.7956 | Test 0.7869\n",
            "Epoch 2 | Time 2.81 | Train 0.7977 | Test 0.7869\n",
            "Epoch 3 | Time 2.86 | Train 0.9862 | Test 0.9847\n",
            "Epoch 4 | Time 2.75 | Train 0.9055 | Test 0.8975\n",
            "Epoch 5 | Time 2.87 | Train 0.9834 | Test 0.9819\n",
            "Epoch 6 | Time 2.72 | Train 0.9852 | Test 0.9856\n",
            "Epoch 7 | Time 2.81 | Train 0.9872 | Test 0.9862\n",
            "Epoch 8 | Time 2.83 | Train 0.9964 | Test 0.9962\n",
            "Epoch 9 | Time 2.83 | Train 0.9966 | Test 0.9966\n",
            "Epoch 10 | Time 2.87 | Train 0.9973 | Test 0.9972\n",
            "\n",
            "---- Fold # 2 ----\n",
            "\n",
            "Epoch 1 | Time 3.46 | Train 0.7835 | Test 0.7919\n",
            "Epoch 2 | Time 2.8 | Train 0.9541 | Test 0.9447\n",
            "Epoch 3 | Time 2.82 | Train 0.8712 | Test 0.8637\n",
            "Epoch 4 | Time 2.77 | Train 0.9816 | Test 0.9778\n",
            "Epoch 5 | Time 2.82 | Train 0.9150 | Test 0.9094\n",
            "Epoch 6 | Time 2.91 | Train 0.9904 | Test 0.9887\n",
            "Epoch 7 | Time 2.72 | Train 0.9895 | Test 0.9891\n",
            "Epoch 8 | Time 2.8 | Train 0.9966 | Test 0.9953\n",
            "Epoch 9 | Time 2.8 | Train 0.9845 | Test 0.9837\n",
            "Epoch 10 | Time 2.79 | Train 0.9961 | Test 0.9947\n",
            "\n",
            "---- Fold # 3 ----\n",
            "\n",
            "Epoch 1 | Time 3.26 | Train 0.8991 | Test 0.8956\n",
            "Epoch 2 | Time 2.81 | Train 0.9678 | Test 0.9625\n",
            "Epoch 3 | Time 2.75 | Train 0.8561 | Test 0.8619\n",
            "Epoch 4 | Time 2.72 | Train 0.8944 | Test 0.8975\n",
            "Epoch 5 | Time 2.73 | Train 0.9784 | Test 0.9709\n",
            "Epoch 6 | Time 2.62 | Train 0.8540 | Test 0.8478\n",
            "Epoch 7 | Time 2.81 | Train 0.9634 | Test 0.9578\n",
            "Epoch 8 | Time 2.84 | Train 0.9468 | Test 0.9441\n",
            "Epoch 9 | Time 2.8 | Train 0.9919 | Test 0.9884\n",
            "Epoch 10 | Time 2.64 | Train 0.9959 | Test 0.9941\n",
            "\n",
            "---- Fold # 4 ----\n",
            "\n",
            "Epoch 1 | Time 3.17 | Train 0.7587 | Test 0.7541\n",
            "Epoch 2 | Time 2.82 | Train 0.8112 | Test 0.8069\n",
            "Epoch 3 | Time 2.72 | Train 0.8193 | Test 0.8112\n",
            "Epoch 4 | Time 2.79 | Train 0.9683 | Test 0.9625\n",
            "Epoch 5 | Time 2.73 | Train 0.9918 | Test 0.9884\n",
            "Epoch 6 | Time 2.64 | Train 0.9955 | Test 0.9934\n",
            "Epoch 7 | Time 2.65 | Train 0.9917 | Test 0.9912\n",
            "Epoch 8 | Time 2.76 | Train 0.9962 | Test 0.9953\n",
            "Epoch 9 | Time 2.81 | Train 0.9970 | Test 0.9969\n",
            "Epoch 10 | Time 2.66 | Train 0.9965 | Test 0.9969\n",
            "\n",
            "---- Fold # 5 ----\n",
            "\n",
            "Epoch 1 | Time 3.37 | Train 0.7707 | Test 0.7625\n",
            "Epoch 2 | Time 2.89 | Train 0.9670 | Test 0.9628\n",
            "Epoch 3 | Time 2.85 | Train 0.8933 | Test 0.8931\n",
            "Epoch 4 | Time 2.97 | Train 0.9816 | Test 0.9797\n",
            "Epoch 5 | Time 2.77 | Train 0.9183 | Test 0.9181\n",
            "Epoch 6 | Time 2.72 | Train 0.9914 | Test 0.9866\n",
            "Epoch 7 | Time 2.61 | Train 0.9884 | Test 0.9862\n",
            "Epoch 8 | Time 2.8 | Train 0.9825 | Test 0.9759\n",
            "Epoch 9 | Time 2.72 | Train 0.9866 | Test 0.9850\n",
            "Epoch 10 | Time 2.7 | Train 0.9914 | Test 0.9881\n",
            "\n",
            "---------------\n",
            "In-sample Accuracy: 0.9972\n",
            "Test Accuracy: 0.9993\n"
          ],
          "name": "stdout"
        }
      ]
    },
    {
      "cell_type": "markdown",
      "metadata": {
        "id": "briXRos6MP7q"
      },
      "source": [
        "Above I performed 5-fold crossvalidation on the 80% training set (16,000 observations) and report the best in-sample test accuracy out of the 5 folds. The test accuracy on the held out 20% is also reported. The model works great, $99.93\\text{%}$ accuracy! "
      ]
    },
    {
      "cell_type": "markdown",
      "metadata": {
        "id": "tBItLvBNvIE5"
      },
      "source": [
        "# To-Do\r\n",
        "\r\n",
        "1. Calculate model accuracy with every base zeroed out that does not lay in a particular region and compare model accuracy against the accuracy of randomly sampled segments of equal length. \r\n",
        "2. Aggregate collection of locations and typical codon motifs present in these regions for future consideration. Map to proteins. Cross reference the literature to see if the identified motifs are known to be associated with resistance profiles."
      ]
    }
  ]
}